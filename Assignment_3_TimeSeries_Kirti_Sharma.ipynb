{
 "cells": [
  {
   "cell_type": "code",
   "execution_count": 1,
   "metadata": {},
   "outputs": [],
   "source": [
    "#First step is to import important libraries or modules\n",
    "import numpy as np \n",
    "import pandas as pd\n",
    "\n",
    "np.random.seed(12345)\n",
    "import matplotlib.pyplot as plt\n",
    "\n",
    "plt.rc('figure', figsize=(10, 6))\n",
    "plt.style.use(style='ggplot')\n",
    "PREVIOUS_MAX_ROWS = pd.options.display.max_rows\n",
    "pd.options.display.max_rows = 20\n",
    "np.set_printoptions(precision=4, suppress=True)\n",
    "\n",
    "\n",
    "from datetime import datetime\n",
    "\n",
    "from pandas.tools.plotting import autocorrelation_plot\n",
    "import seaborn as sns"
   ]
  },
  {
   "cell_type": "code",
   "execution_count": 2,
   "metadata": {},
   "outputs": [
    {
     "data": {
      "text/html": [
       "<div>\n",
       "<style scoped>\n",
       "    .dataframe tbody tr th:only-of-type {\n",
       "        vertical-align: middle;\n",
       "    }\n",
       "\n",
       "    .dataframe tbody tr th {\n",
       "        vertical-align: top;\n",
       "    }\n",
       "\n",
       "    .dataframe thead th {\n",
       "        text-align: right;\n",
       "    }\n",
       "</style>\n",
       "<table border=\"1\" class=\"dataframe\">\n",
       "  <thead>\n",
       "    <tr style=\"text-align: right;\">\n",
       "      <th></th>\n",
       "      <th>Date</th>\n",
       "      <th>Open</th>\n",
       "      <th>High</th>\n",
       "      <th>Low</th>\n",
       "      <th>Close</th>\n",
       "      <th>Adj Close</th>\n",
       "      <th>Volume</th>\n",
       "    </tr>\n",
       "  </thead>\n",
       "  <tbody>\n",
       "    <tr>\n",
       "      <th>0</th>\n",
       "      <td>2013-02-28</td>\n",
       "      <td>63.435715</td>\n",
       "      <td>63.981430</td>\n",
       "      <td>63.057144</td>\n",
       "      <td>63.057144</td>\n",
       "      <td>47.371712</td>\n",
       "      <td>80628800</td>\n",
       "    </tr>\n",
       "    <tr>\n",
       "      <th>1</th>\n",
       "      <td>2013-03-01</td>\n",
       "      <td>62.571430</td>\n",
       "      <td>62.597141</td>\n",
       "      <td>61.425713</td>\n",
       "      <td>61.495716</td>\n",
       "      <td>46.198692</td>\n",
       "      <td>138112100</td>\n",
       "    </tr>\n",
       "    <tr>\n",
       "      <th>2</th>\n",
       "      <td>2013-03-04</td>\n",
       "      <td>61.114285</td>\n",
       "      <td>61.171429</td>\n",
       "      <td>59.857143</td>\n",
       "      <td>60.007141</td>\n",
       "      <td>45.080402</td>\n",
       "      <td>145688900</td>\n",
       "    </tr>\n",
       "    <tr>\n",
       "      <th>3</th>\n",
       "      <td>2013-03-05</td>\n",
       "      <td>60.211430</td>\n",
       "      <td>62.169998</td>\n",
       "      <td>60.107143</td>\n",
       "      <td>61.591427</td>\n",
       "      <td>46.270584</td>\n",
       "      <td>159608400</td>\n",
       "    </tr>\n",
       "    <tr>\n",
       "      <th>4</th>\n",
       "      <td>2013-03-06</td>\n",
       "      <td>62.072857</td>\n",
       "      <td>62.178570</td>\n",
       "      <td>60.632858</td>\n",
       "      <td>60.808571</td>\n",
       "      <td>45.682465</td>\n",
       "      <td>115062500</td>\n",
       "    </tr>\n",
       "  </tbody>\n",
       "</table>\n",
       "</div>"
      ],
      "text/plain": [
       "         Date       Open       High        Low      Close  Adj Close  \\\n",
       "0  2013-02-28  63.435715  63.981430  63.057144  63.057144  47.371712   \n",
       "1  2013-03-01  62.571430  62.597141  61.425713  61.495716  46.198692   \n",
       "2  2013-03-04  61.114285  61.171429  59.857143  60.007141  45.080402   \n",
       "3  2013-03-05  60.211430  62.169998  60.107143  61.591427  46.270584   \n",
       "4  2013-03-06  62.072857  62.178570  60.632858  60.808571  45.682465   \n",
       "\n",
       "      Volume  \n",
       "0   80628800  \n",
       "1  138112100  \n",
       "2  145688900  \n",
       "3  159608400  \n",
       "4  115062500  "
      ]
     },
     "execution_count": 2,
     "metadata": {},
     "output_type": "execute_result"
    }
   ],
   "source": [
    "#Loading the apple file to data frame to analyize the column data\n",
    "aapl_df=pd.read_csv('3250_Assignment+3_aapl.csv')\n",
    "aapl_df.head()"
   ]
  },
  {
   "cell_type": "code",
   "execution_count": 3,
   "metadata": {},
   "outputs": [
    {
     "name": "stdout",
     "output_type": "stream",
     "text": [
      "<class 'pandas.core.frame.DataFrame'>\n",
      "RangeIndex: 1260 entries, 0 to 1259\n",
      "Data columns (total 7 columns):\n",
      "Date         1260 non-null object\n",
      "Open         1260 non-null float64\n",
      "High         1260 non-null float64\n",
      "Low          1260 non-null float64\n",
      "Close        1260 non-null float64\n",
      "Adj Close    1260 non-null float64\n",
      "Volume       1260 non-null int64\n",
      "dtypes: float64(5), int64(1), object(1)\n",
      "memory usage: 69.0+ KB\n"
     ]
    }
   ],
   "source": [
    "aapl_df.info()"
   ]
  },
  {
   "cell_type": "markdown",
   "metadata": {},
   "source": [
    "In the above info we can see that date is not the index and also the type of 'Date' column is object."
   ]
  },
  {
   "cell_type": "code",
   "execution_count": 4,
   "metadata": {},
   "outputs": [
    {
     "data": {
      "text/plain": [
       "str"
      ]
     },
     "execution_count": 4,
     "metadata": {},
     "output_type": "execute_result"
    }
   ],
   "source": [
    "type(aapl_df.Date[0])"
   ]
  },
  {
   "cell_type": "markdown",
   "metadata": {},
   "source": [
    "To verify it, I have checked the dtype of first element which clearly shows that it is a string type.<br/>\n",
    "Date can be set as index and also while creating a df we can specify parse_date method of read_csv to treat Date column as date type as shown below:"
   ]
  },
  {
   "cell_type": "code",
   "execution_count": 5,
   "metadata": {},
   "outputs": [
    {
     "data": {
      "text/html": [
       "<div>\n",
       "<style scoped>\n",
       "    .dataframe tbody tr th:only-of-type {\n",
       "        vertical-align: middle;\n",
       "    }\n",
       "\n",
       "    .dataframe tbody tr th {\n",
       "        vertical-align: top;\n",
       "    }\n",
       "\n",
       "    .dataframe thead th {\n",
       "        text-align: right;\n",
       "    }\n",
       "</style>\n",
       "<table border=\"1\" class=\"dataframe\">\n",
       "  <thead>\n",
       "    <tr style=\"text-align: right;\">\n",
       "      <th></th>\n",
       "      <th>Open</th>\n",
       "      <th>High</th>\n",
       "      <th>Low</th>\n",
       "      <th>Close</th>\n",
       "      <th>Adj Close</th>\n",
       "      <th>Volume</th>\n",
       "    </tr>\n",
       "    <tr>\n",
       "      <th>Date</th>\n",
       "      <th></th>\n",
       "      <th></th>\n",
       "      <th></th>\n",
       "      <th></th>\n",
       "      <th></th>\n",
       "      <th></th>\n",
       "    </tr>\n",
       "  </thead>\n",
       "  <tbody>\n",
       "    <tr>\n",
       "      <th>2013-02-28</th>\n",
       "      <td>63.435715</td>\n",
       "      <td>63.981430</td>\n",
       "      <td>63.057144</td>\n",
       "      <td>63.057144</td>\n",
       "      <td>47.371712</td>\n",
       "      <td>80628800</td>\n",
       "    </tr>\n",
       "    <tr>\n",
       "      <th>2013-03-01</th>\n",
       "      <td>62.571430</td>\n",
       "      <td>62.597141</td>\n",
       "      <td>61.425713</td>\n",
       "      <td>61.495716</td>\n",
       "      <td>46.198692</td>\n",
       "      <td>138112100</td>\n",
       "    </tr>\n",
       "    <tr>\n",
       "      <th>2013-03-04</th>\n",
       "      <td>61.114285</td>\n",
       "      <td>61.171429</td>\n",
       "      <td>59.857143</td>\n",
       "      <td>60.007141</td>\n",
       "      <td>45.080402</td>\n",
       "      <td>145688900</td>\n",
       "    </tr>\n",
       "    <tr>\n",
       "      <th>2013-03-05</th>\n",
       "      <td>60.211430</td>\n",
       "      <td>62.169998</td>\n",
       "      <td>60.107143</td>\n",
       "      <td>61.591427</td>\n",
       "      <td>46.270584</td>\n",
       "      <td>159608400</td>\n",
       "    </tr>\n",
       "    <tr>\n",
       "      <th>2013-03-06</th>\n",
       "      <td>62.072857</td>\n",
       "      <td>62.178570</td>\n",
       "      <td>60.632858</td>\n",
       "      <td>60.808571</td>\n",
       "      <td>45.682465</td>\n",
       "      <td>115062500</td>\n",
       "    </tr>\n",
       "  </tbody>\n",
       "</table>\n",
       "</div>"
      ],
      "text/plain": [
       "                 Open       High        Low      Close  Adj Close     Volume\n",
       "Date                                                                        \n",
       "2013-02-28  63.435715  63.981430  63.057144  63.057144  47.371712   80628800\n",
       "2013-03-01  62.571430  62.597141  61.425713  61.495716  46.198692  138112100\n",
       "2013-03-04  61.114285  61.171429  59.857143  60.007141  45.080402  145688900\n",
       "2013-03-05  60.211430  62.169998  60.107143  61.591427  46.270584  159608400\n",
       "2013-03-06  62.072857  62.178570  60.632858  60.808571  45.682465  115062500"
      ]
     },
     "execution_count": 5,
     "metadata": {},
     "output_type": "execute_result"
    }
   ],
   "source": [
    "aapl_df=pd.read_csv('3250_Assignment+3_aapl.csv',parse_dates=[\"Date\"], index_col=\"Date\")\n",
    "aapl_df.head()"
   ]
  },
  {
   "cell_type": "code",
   "execution_count": 6,
   "metadata": {},
   "outputs": [],
   "source": [
    "aapl_df=aapl_df.drop(pd.Timestamp('2013-02-28'))"
   ]
  },
  {
   "cell_type": "markdown",
   "metadata": {},
   "source": [
    "In the above statement, the first row of data has been dropped as it only represent the last day of Feb 28, 2013. After removing this we will have complete 60 months to analyze. Otherwise it was considering Feb as a complete month whereas data for Feb was not available except for the 28th."
   ]
  },
  {
   "cell_type": "code",
   "execution_count": 7,
   "metadata": {},
   "outputs": [
    {
     "name": "stdout",
     "output_type": "stream",
     "text": [
      "<class 'pandas.core.frame.DataFrame'>\n",
      "DatetimeIndex: 1259 entries, 2013-03-01 to 2018-02-28\n",
      "Data columns (total 6 columns):\n",
      "Open         1259 non-null float64\n",
      "High         1259 non-null float64\n",
      "Low          1259 non-null float64\n",
      "Close        1259 non-null float64\n",
      "Adj Close    1259 non-null float64\n",
      "Volume       1259 non-null int64\n",
      "dtypes: float64(5), int64(1)\n",
      "memory usage: 68.9 KB\n"
     ]
    }
   ],
   "source": [
    "aapl_df.info()"
   ]
  },
  {
   "cell_type": "code",
   "execution_count": 8,
   "metadata": {},
   "outputs": [
    {
     "data": {
      "text/plain": [
       "DatetimeIndex(['2013-03-01', '2013-03-04', '2013-03-05', '2013-03-06',\n",
       "               '2013-03-07', '2013-03-08', '2013-03-11', '2013-03-12',\n",
       "               '2013-03-13', '2013-03-14',\n",
       "               ...\n",
       "               '2018-02-14', '2018-02-15', '2018-02-16', '2018-02-20',\n",
       "               '2018-02-21', '2018-02-22', '2018-02-23', '2018-02-26',\n",
       "               '2018-02-27', '2018-02-28'],\n",
       "              dtype='datetime64[ns]', name='Date', length=1259, freq=None)"
      ]
     },
     "execution_count": 8,
     "metadata": {},
     "output_type": "execute_result"
    }
   ],
   "source": [
    "aapl_df.index"
   ]
  },
  {
   "cell_type": "markdown",
   "metadata": {},
   "source": [
    "From the index info above, it shows that there is no set frequency in the data. Also, the dates for weekend are missing as stock market is closed on weekends and holidays."
   ]
  },
  {
   "cell_type": "code",
   "execution_count": 9,
   "metadata": {},
   "outputs": [
    {
     "data": {
      "text/html": [
       "<div>\n",
       "<style scoped>\n",
       "    .dataframe tbody tr th:only-of-type {\n",
       "        vertical-align: middle;\n",
       "    }\n",
       "\n",
       "    .dataframe tbody tr th {\n",
       "        vertical-align: top;\n",
       "    }\n",
       "\n",
       "    .dataframe thead th {\n",
       "        text-align: right;\n",
       "    }\n",
       "</style>\n",
       "<table border=\"1\" class=\"dataframe\">\n",
       "  <thead>\n",
       "    <tr style=\"text-align: right;\">\n",
       "      <th></th>\n",
       "      <th>Open</th>\n",
       "      <th>High</th>\n",
       "      <th>Low</th>\n",
       "      <th>Close</th>\n",
       "      <th>Adj Close</th>\n",
       "      <th>Volume</th>\n",
       "    </tr>\n",
       "    <tr>\n",
       "      <th>Date</th>\n",
       "      <th></th>\n",
       "      <th></th>\n",
       "      <th></th>\n",
       "      <th></th>\n",
       "      <th></th>\n",
       "      <th></th>\n",
       "    </tr>\n",
       "  </thead>\n",
       "  <tbody>\n",
       "    <tr>\n",
       "      <th>2017-07-03</th>\n",
       "      <td>144.880005</td>\n",
       "      <td>145.300003</td>\n",
       "      <td>143.100006</td>\n",
       "      <td>143.500000</td>\n",
       "      <td>141.848343</td>\n",
       "      <td>14258300</td>\n",
       "    </tr>\n",
       "    <tr>\n",
       "      <th>2017-07-05</th>\n",
       "      <td>143.690002</td>\n",
       "      <td>144.789993</td>\n",
       "      <td>142.720001</td>\n",
       "      <td>144.089996</td>\n",
       "      <td>142.431549</td>\n",
       "      <td>21569600</td>\n",
       "    </tr>\n",
       "    <tr>\n",
       "      <th>2017-07-06</th>\n",
       "      <td>143.020004</td>\n",
       "      <td>143.500000</td>\n",
       "      <td>142.410004</td>\n",
       "      <td>142.729996</td>\n",
       "      <td>141.087204</td>\n",
       "      <td>24128800</td>\n",
       "    </tr>\n",
       "    <tr>\n",
       "      <th>2017-07-07</th>\n",
       "      <td>142.899994</td>\n",
       "      <td>144.750000</td>\n",
       "      <td>142.899994</td>\n",
       "      <td>144.179993</td>\n",
       "      <td>142.520508</td>\n",
       "      <td>19201700</td>\n",
       "    </tr>\n",
       "    <tr>\n",
       "      <th>2017-07-10</th>\n",
       "      <td>144.110001</td>\n",
       "      <td>145.949997</td>\n",
       "      <td>143.369995</td>\n",
       "      <td>145.059998</td>\n",
       "      <td>143.390381</td>\n",
       "      <td>21090600</td>\n",
       "    </tr>\n",
       "    <tr>\n",
       "      <th>2017-07-11</th>\n",
       "      <td>144.729996</td>\n",
       "      <td>145.850006</td>\n",
       "      <td>144.380005</td>\n",
       "      <td>145.529999</td>\n",
       "      <td>143.854965</td>\n",
       "      <td>19781800</td>\n",
       "    </tr>\n",
       "    <tr>\n",
       "      <th>2017-07-12</th>\n",
       "      <td>145.869995</td>\n",
       "      <td>146.179993</td>\n",
       "      <td>144.820007</td>\n",
       "      <td>145.740005</td>\n",
       "      <td>144.062561</td>\n",
       "      <td>24884500</td>\n",
       "    </tr>\n",
       "    <tr>\n",
       "      <th>2017-07-13</th>\n",
       "      <td>145.500000</td>\n",
       "      <td>148.490005</td>\n",
       "      <td>145.440002</td>\n",
       "      <td>147.770004</td>\n",
       "      <td>146.069214</td>\n",
       "      <td>25199400</td>\n",
       "    </tr>\n",
       "    <tr>\n",
       "      <th>2017-07-14</th>\n",
       "      <td>147.970001</td>\n",
       "      <td>149.330002</td>\n",
       "      <td>147.330002</td>\n",
       "      <td>149.039993</td>\n",
       "      <td>147.324570</td>\n",
       "      <td>20132100</td>\n",
       "    </tr>\n",
       "    <tr>\n",
       "      <th>2017-07-17</th>\n",
       "      <td>148.820007</td>\n",
       "      <td>150.899994</td>\n",
       "      <td>148.570007</td>\n",
       "      <td>149.559998</td>\n",
       "      <td>147.838593</td>\n",
       "      <td>23793500</td>\n",
       "    </tr>\n",
       "    <tr>\n",
       "      <th>2017-07-18</th>\n",
       "      <td>149.199997</td>\n",
       "      <td>150.130005</td>\n",
       "      <td>148.669998</td>\n",
       "      <td>150.080002</td>\n",
       "      <td>148.352615</td>\n",
       "      <td>17868800</td>\n",
       "    </tr>\n",
       "    <tr>\n",
       "      <th>2017-07-19</th>\n",
       "      <td>150.479996</td>\n",
       "      <td>151.419998</td>\n",
       "      <td>149.949997</td>\n",
       "      <td>151.020004</td>\n",
       "      <td>149.281799</td>\n",
       "      <td>20923000</td>\n",
       "    </tr>\n",
       "    <tr>\n",
       "      <th>2017-07-20</th>\n",
       "      <td>151.500000</td>\n",
       "      <td>151.740005</td>\n",
       "      <td>150.190002</td>\n",
       "      <td>150.339996</td>\n",
       "      <td>148.609619</td>\n",
       "      <td>17243700</td>\n",
       "    </tr>\n",
       "    <tr>\n",
       "      <th>2017-07-21</th>\n",
       "      <td>149.990005</td>\n",
       "      <td>150.440002</td>\n",
       "      <td>148.880005</td>\n",
       "      <td>150.270004</td>\n",
       "      <td>148.540421</td>\n",
       "      <td>26252600</td>\n",
       "    </tr>\n",
       "    <tr>\n",
       "      <th>2017-07-24</th>\n",
       "      <td>150.580002</td>\n",
       "      <td>152.440002</td>\n",
       "      <td>149.899994</td>\n",
       "      <td>152.089996</td>\n",
       "      <td>150.339478</td>\n",
       "      <td>21493200</td>\n",
       "    </tr>\n",
       "    <tr>\n",
       "      <th>2017-07-25</th>\n",
       "      <td>151.800003</td>\n",
       "      <td>153.839996</td>\n",
       "      <td>151.800003</td>\n",
       "      <td>152.740005</td>\n",
       "      <td>150.982010</td>\n",
       "      <td>18853900</td>\n",
       "    </tr>\n",
       "    <tr>\n",
       "      <th>2017-07-26</th>\n",
       "      <td>153.350006</td>\n",
       "      <td>153.929993</td>\n",
       "      <td>153.059998</td>\n",
       "      <td>153.460007</td>\n",
       "      <td>151.693710</td>\n",
       "      <td>15781000</td>\n",
       "    </tr>\n",
       "    <tr>\n",
       "      <th>2017-07-27</th>\n",
       "      <td>153.750000</td>\n",
       "      <td>153.990005</td>\n",
       "      <td>147.300003</td>\n",
       "      <td>150.559998</td>\n",
       "      <td>148.827087</td>\n",
       "      <td>32476300</td>\n",
       "    </tr>\n",
       "    <tr>\n",
       "      <th>2017-07-28</th>\n",
       "      <td>149.889999</td>\n",
       "      <td>150.229996</td>\n",
       "      <td>149.190002</td>\n",
       "      <td>149.500000</td>\n",
       "      <td>147.779282</td>\n",
       "      <td>17213700</td>\n",
       "    </tr>\n",
       "    <tr>\n",
       "      <th>2017-07-31</th>\n",
       "      <td>149.899994</td>\n",
       "      <td>150.330002</td>\n",
       "      <td>148.130005</td>\n",
       "      <td>148.729996</td>\n",
       "      <td>147.018143</td>\n",
       "      <td>19845900</td>\n",
       "    </tr>\n",
       "  </tbody>\n",
       "</table>\n",
       "</div>"
      ],
      "text/plain": [
       "                  Open        High         Low       Close   Adj Close  \\\n",
       "Date                                                                     \n",
       "2017-07-03  144.880005  145.300003  143.100006  143.500000  141.848343   \n",
       "2017-07-05  143.690002  144.789993  142.720001  144.089996  142.431549   \n",
       "2017-07-06  143.020004  143.500000  142.410004  142.729996  141.087204   \n",
       "2017-07-07  142.899994  144.750000  142.899994  144.179993  142.520508   \n",
       "2017-07-10  144.110001  145.949997  143.369995  145.059998  143.390381   \n",
       "2017-07-11  144.729996  145.850006  144.380005  145.529999  143.854965   \n",
       "2017-07-12  145.869995  146.179993  144.820007  145.740005  144.062561   \n",
       "2017-07-13  145.500000  148.490005  145.440002  147.770004  146.069214   \n",
       "2017-07-14  147.970001  149.330002  147.330002  149.039993  147.324570   \n",
       "2017-07-17  148.820007  150.899994  148.570007  149.559998  147.838593   \n",
       "2017-07-18  149.199997  150.130005  148.669998  150.080002  148.352615   \n",
       "2017-07-19  150.479996  151.419998  149.949997  151.020004  149.281799   \n",
       "2017-07-20  151.500000  151.740005  150.190002  150.339996  148.609619   \n",
       "2017-07-21  149.990005  150.440002  148.880005  150.270004  148.540421   \n",
       "2017-07-24  150.580002  152.440002  149.899994  152.089996  150.339478   \n",
       "2017-07-25  151.800003  153.839996  151.800003  152.740005  150.982010   \n",
       "2017-07-26  153.350006  153.929993  153.059998  153.460007  151.693710   \n",
       "2017-07-27  153.750000  153.990005  147.300003  150.559998  148.827087   \n",
       "2017-07-28  149.889999  150.229996  149.190002  149.500000  147.779282   \n",
       "2017-07-31  149.899994  150.330002  148.130005  148.729996  147.018143   \n",
       "\n",
       "              Volume  \n",
       "Date                  \n",
       "2017-07-03  14258300  \n",
       "2017-07-05  21569600  \n",
       "2017-07-06  24128800  \n",
       "2017-07-07  19201700  \n",
       "2017-07-10  21090600  \n",
       "2017-07-11  19781800  \n",
       "2017-07-12  24884500  \n",
       "2017-07-13  25199400  \n",
       "2017-07-14  20132100  \n",
       "2017-07-17  23793500  \n",
       "2017-07-18  17868800  \n",
       "2017-07-19  20923000  \n",
       "2017-07-20  17243700  \n",
       "2017-07-21  26252600  \n",
       "2017-07-24  21493200  \n",
       "2017-07-25  18853900  \n",
       "2017-07-26  15781000  \n",
       "2017-07-27  32476300  \n",
       "2017-07-28  17213700  \n",
       "2017-07-31  19845900  "
      ]
     },
     "execution_count": 9,
     "metadata": {},
     "output_type": "execute_result"
    }
   ],
   "source": [
    "aapl_df['2017-07']"
   ]
  },
  {
   "cell_type": "markdown",
   "metadata": {},
   "source": [
    "To Validate the holiday data is missing, above data for month of July has been pulled and data for 4th of July is missing even though it does not fall on a weekend. It was Tuesday. So to make the data more consistent, I am going to set Frequency as 'D' and using pad method to fill the NA values that will be generated when we change the frequency. Why pad method - because if price of a stock is x on Friday, it will change only on Monday. During Saturday and Sunday there is no change in the price so we can assume that the price of stock over the weekend or on a holiday is same as previous business day. <br/>\n",
    "\n",
    "To do that asfreq method has been implemented as below:"
   ]
  },
  {
   "cell_type": "code",
   "execution_count": 10,
   "metadata": {},
   "outputs": [],
   "source": [
    "aapl_df=aapl_df.asfreq('D',method='pad')"
   ]
  },
  {
   "cell_type": "code",
   "execution_count": 11,
   "metadata": {},
   "outputs": [
    {
     "name": "stdout",
     "output_type": "stream",
     "text": [
      "<class 'pandas.core.frame.DataFrame'>\n",
      "DatetimeIndex: 1826 entries, 2013-03-01 to 2018-02-28\n",
      "Freq: D\n",
      "Data columns (total 6 columns):\n",
      "Open         1826 non-null float64\n",
      "High         1826 non-null float64\n",
      "Low          1826 non-null float64\n",
      "Close        1826 non-null float64\n",
      "Adj Close    1826 non-null float64\n",
      "Volume       1826 non-null int64\n",
      "dtypes: float64(5), int64(1)\n",
      "memory usage: 99.9 KB\n"
     ]
    }
   ],
   "source": [
    "aapl_df.info()"
   ]
  },
  {
   "cell_type": "code",
   "execution_count": 12,
   "metadata": {},
   "outputs": [
    {
     "data": {
      "text/plain": [
       "DatetimeIndex(['2013-03-01', '2013-03-02', '2013-03-03', '2013-03-04',\n",
       "               '2013-03-05', '2013-03-06', '2013-03-07', '2013-03-08',\n",
       "               '2013-03-09', '2013-03-10',\n",
       "               ...\n",
       "               '2018-02-19', '2018-02-20', '2018-02-21', '2018-02-22',\n",
       "               '2018-02-23', '2018-02-24', '2018-02-25', '2018-02-26',\n",
       "               '2018-02-27', '2018-02-28'],\n",
       "              dtype='datetime64[ns]', name='Date', length=1826, freq='D')"
      ]
     },
     "execution_count": 12,
     "metadata": {},
     "output_type": "execute_result"
    }
   ],
   "source": [
    "aapl_df.index"
   ]
  },
  {
   "cell_type": "markdown",
   "metadata": {},
   "source": [
    "To select the adjusted monthend close price, I am going to create a new time series by frequency as 'M'. I am not choosing 'BM' as we have already filled the gaps above to cover weekends and Holidays. So, it should not matter as regular month end will have values assigned from business month end day."
   ]
  },
  {
   "cell_type": "code",
   "execution_count": 13,
   "metadata": {},
   "outputs": [
    {
     "data": {
      "text/plain": [
       "Date\n",
       "2013-03-31     47.506943\n",
       "2013-04-30     47.519821\n",
       "2013-05-31     50.594505\n",
       "2013-06-30     44.609531\n",
       "2013-07-31     50.909512\n",
       "2013-08-31     57.449993\n",
       "2013-09-30     56.215424\n",
       "2013-10-31     61.633572\n",
       "2013-11-30     68.345360\n",
       "2013-12-31     68.953758\n",
       "                 ...    \n",
       "2017-05-31    151.001770\n",
       "2017-06-30    142.362366\n",
       "2017-07-31    147.018143\n",
       "2017-08-31    162.749008\n",
       "2017-09-30    152.944366\n",
       "2017-10-31    167.750549\n",
       "2017-11-30    171.152191\n",
       "2017-12-31    168.542831\n",
       "2018-01-31    166.750137\n",
       "2018-02-28    178.119995\n",
       "Freq: M, Name: Adj Close, Length: 60, dtype: float64"
      ]
     },
     "execution_count": 13,
     "metadata": {},
     "output_type": "execute_result"
    }
   ],
   "source": [
    "aapl_adj_close_monthend=pd.Series(aapl_df['Adj Close'].asfreq('M'))\n",
    "aapl_adj_close_monthend"
   ]
  },
  {
   "cell_type": "markdown",
   "metadata": {},
   "source": [
    "Below is the overall Lag plot for AAPL adjusted close monthend price to see what is the overall relation ship with Lag values:"
   ]
  },
  {
   "cell_type": "code",
   "execution_count": 14,
   "metadata": {},
   "outputs": [
    {
     "data": {
      "image/png": "[encoded data removed]",
      "text/plain": [
       "<Figure size 432x288 with 1 Axes>"
      ]
     },
     "metadata": {},
     "output_type": "display_data"
    }
   ],
   "source": [
    "pd.plotting.lag_plot(aapl_adj_close_monthend)\n",
    "plt.show()"
   ]
  },
  {
   "cell_type": "markdown",
   "metadata": {},
   "source": [
    "Lag plot shows that there is a positive correlation as we see the data points forming a diagonal upwards line.To verify this further, below autocorrelation graph has been plotted"
   ]
  },
  {
   "cell_type": "code",
   "execution_count": 15,
   "metadata": {},
   "outputs": [
    {
     "data": {
      "text/plain": [
       "Text(0.5,0,'Lag (Months)')"
      ]
     },
     "execution_count": 15,
     "metadata": {},
     "output_type": "execute_result"
    },
    {
     "data": {
      "image/png": "[encoded data removed]",
      "text/plain": [
       "<Figure size 432x288 with 1 Axes>"
      ]
     },
     "metadata": {},
     "output_type": "display_data"
    }
   ],
   "source": [
    "#autocorrelation plot\n",
    "aCPlot = pd.plotting.autocorrelation_plot(aapl_adj_close_monthend)\n",
    "aCPlot.set_title(\"An Autocorrelation Graph of AAPL adjclose monthend\")\n",
    "aCPlot.set_ylabel(\"Correlation\")\n",
    "aCPlot.set_xlabel(\"Lag (Months)\")"
   ]
  },
  {
   "cell_type": "markdown",
   "metadata": {},
   "source": [
    "The above Autocorrelation graph measures the relationship between Time Series and its Lag values. The following observations have been found:<br/>\n",
    " - When lag is less than 10 the autocorrelation is strong with coefficient value is closer to 1 and then slightly decreases to zero.\n",
    " - When lag is between 15- 40, there is no autocorrelation as the coefficient values are closer to zero and also within the dotted lines.\n",
    " - There is a negative correlation between lag values 43-53, however the autocorrelation is weak as with further lag values it is apporaching to zero\n",
    "\n",
    "We can further validate this by ploting a lag graphs as below:"
   ]
  },
  {
   "cell_type": "code",
   "execution_count": 16,
   "metadata": {},
   "outputs": [
    {
     "data": {
      "image/png": "[encoded data removed]",
      "text/plain": [
       "<Figure size 432x288 with 4 Axes>"
      ]
     },
     "metadata": {},
     "output_type": "display_data"
    }
   ],
   "source": [
    "#lagplot of subsets of auto correlation\n",
    "plt.subplot(3, 3, 1)\n",
    "pd.plotting.lag_plot(series=aapl_adj_close_monthend, lag = 5)\n",
    "plt.subplot(3, 3, 3)\n",
    "pd.plotting.lag_plot(series=aapl_adj_close_monthend, lag = 30)\n",
    "plt.subplot(3, 3, 7)\n",
    "pd.plotting.lag_plot(series=aapl_adj_close_monthend, lag = 45)\n",
    "plt.subplot(3, 3, 9)\n",
    "pd.plotting.lag_plot(series=aapl_adj_close_monthend, lag = 58)\n",
    "plt.suptitle('AAPL LAG Plots')\n",
    "plt.show()"
   ]
  },
  {
   "cell_type": "markdown",
   "metadata": {},
   "source": [
    "After observing the subset of Autocorrelation, the finding on different subsets are as follows:<br/>\n",
    " - Graph 1 - There is a strong correlation when the values are below 10.\n",
    " - Graph 2 and 3 - From Autocorrelation graph, my understanding was there is no correlation. However, looking at the subset graph. It does show some correlation which is weak but we can not say it is completely zero.\n",
    " - Graph 4 - There is no correlation as the lag values approaces towardss end."
   ]
  },
  {
   "cell_type": "markdown",
   "metadata": {},
   "source": [
    "Moving on the the next task, finding a **monthly return** from monthend stock prices is calculated as - <br/>\n",
    "aapl_adj_close_monthend / aapl_adj_close_monthend.shift(1) - 1"
   ]
  },
  {
   "cell_type": "code",
   "execution_count": 17,
   "metadata": {},
   "outputs": [],
   "source": [
    "aapl_monthly_return=aapl_adj_close_monthend/aapl_adj_close_monthend.shift(1)-1"
   ]
  },
  {
   "cell_type": "code",
   "execution_count": 18,
   "metadata": {},
   "outputs": [
    {
     "data": {
      "text/plain": [
       "Date\n",
       "2013-03-31         NaN\n",
       "2013-04-30    0.000271\n",
       "2013-05-31    0.064703\n",
       "2013-06-30   -0.118293\n",
       "2013-07-31    0.141225\n",
       "2013-08-31    0.128473\n",
       "2013-09-30   -0.021489\n",
       "2013-10-31    0.096382\n",
       "2013-11-30    0.108898\n",
       "2013-12-31    0.008902\n",
       "                ...   \n",
       "2017-05-31    0.067808\n",
       "2017-06-30   -0.057214\n",
       "2017-07-31    0.032704\n",
       "2017-08-31    0.106999\n",
       "2017-09-30   -0.060244\n",
       "2017-10-31    0.096808\n",
       "2017-11-30    0.020278\n",
       "2017-12-31   -0.015246\n",
       "2018-01-31   -0.010636\n",
       "2018-02-28    0.068185\n",
       "Freq: M, Name: Adj Close, Length: 60, dtype: float64"
      ]
     },
     "execution_count": 18,
     "metadata": {},
     "output_type": "execute_result"
    }
   ],
   "source": [
    "aapl_monthly_return"
   ]
  },
  {
   "cell_type": "code",
   "execution_count": 19,
   "metadata": {},
   "outputs": [],
   "source": [
    "aapl_monthly_return=aapl_monthly_return.dropna() #simply dropping the NA values that were noticed as above"
   ]
  },
  {
   "cell_type": "code",
   "execution_count": 20,
   "metadata": {},
   "outputs": [
    {
     "data": {
      "text/plain": [
       "Date\n",
       "2013-04-30    0.000271\n",
       "2013-05-31    0.064703\n",
       "2013-06-30   -0.118293\n",
       "2013-07-31    0.141225\n",
       "2013-08-31    0.128473\n",
       "2013-09-30   -0.021489\n",
       "2013-10-31    0.096382\n",
       "2013-11-30    0.108898\n",
       "2013-12-31    0.008902\n",
       "2014-01-31   -0.107697\n",
       "                ...   \n",
       "2017-05-31    0.067808\n",
       "2017-06-30   -0.057214\n",
       "2017-07-31    0.032704\n",
       "2017-08-31    0.106999\n",
       "2017-09-30   -0.060244\n",
       "2017-10-31    0.096808\n",
       "2017-11-30    0.020278\n",
       "2017-12-31   -0.015246\n",
       "2018-01-31   -0.010636\n",
       "2018-02-28    0.068185\n",
       "Freq: M, Name: Adj Close, Length: 59, dtype: float64"
      ]
     },
     "execution_count": 20,
     "metadata": {},
     "output_type": "execute_result"
    }
   ],
   "source": [
    "aapl_monthly_return"
   ]
  },
  {
   "cell_type": "markdown",
   "metadata": {},
   "source": [
    "Next step is to plot the Autocorrelation for AAPL returns."
   ]
  },
  {
   "cell_type": "code",
   "execution_count": 21,
   "metadata": {},
   "outputs": [
    {
     "data": {
      "text/plain": [
       "Text(0.5,0,'Lag (Months)')"
      ]
     },
     "execution_count": 21,
     "metadata": {},
     "output_type": "execute_result"
    },
    {
     "data": {
      "image/png": "[encoded data removed]",
      "text/plain": [
       "<Figure size 432x288 with 1 Axes>"
      ]
     },
     "metadata": {},
     "output_type": "display_data"
    }
   ],
   "source": [
    "#autocorrelation plot\n",
    "aCPlot = pd.plotting.autocorrelation_plot(aapl_monthly_return)\n",
    "aCPlot.set_title(\"An Autocorrelation Graph of AAPL monthly returns\")\n",
    "aCPlot.set_ylabel(\"Correlation\")\n",
    "aCPlot.set_xlabel(\"Lag (Months)\")"
   ]
  },
  {
   "cell_type": "markdown",
   "metadata": {},
   "source": [
    "The Autocorrelation graph shows that correlation coeffcient of monthly return values is closer to zero. So, there is no autocorrelation. However, to verify this I am going to draw a lag plot as below"
   ]
  },
  {
   "cell_type": "code",
   "execution_count": 22,
   "metadata": {},
   "outputs": [
    {
     "data": {
      "image/png": "[encoded data removed]",
      "text/plain": [
       "<Figure size 432x288 with 1 Axes>"
      ]
     },
     "metadata": {},
     "output_type": "display_data"
    }
   ],
   "source": [
    "pd.plotting.lag_plot(aapl_monthly_return)\n",
    "plt.show()"
   ]
  },
  {
   "cell_type": "markdown",
   "metadata": {},
   "source": [
    "The Lag plot of AAPL monthly return is a scattered plot, so it is clear that there is no autocorrelation between monthly returns. This is called White noise."
   ]
  },
  {
   "cell_type": "markdown",
   "metadata": {},
   "source": [
    "The same process as above to be applied to AMZN,EBAY and INTC one by one. \n",
    "\n",
    "To start with loading files into data frame and setting date as index.\n",
    "\n",
    "### AMZN"
   ]
  },
  {
   "cell_type": "code",
   "execution_count": 23,
   "metadata": {},
   "outputs": [
    {
     "name": "stdout",
     "output_type": "stream",
     "text": [
      "<class 'pandas.core.frame.DataFrame'>\n",
      "DatetimeIndex: 1260 entries, 2013-02-28 to 2018-02-28\n",
      "Data columns (total 6 columns):\n",
      "Open         1260 non-null float64\n",
      "High         1260 non-null float64\n",
      "Low          1260 non-null float64\n",
      "Close        1260 non-null float64\n",
      "Adj Close    1260 non-null float64\n",
      "Volume       1260 non-null int64\n",
      "dtypes: float64(5), int64(1)\n",
      "memory usage: 68.9 KB\n"
     ]
    }
   ],
   "source": [
    "amzn_df=pd.read_csv('3250_Assignment+3_amzn.csv',parse_dates=[\"Date\"], index_col=\"Date\")\n",
    "amzn_df.info()"
   ]
  },
  {
   "cell_type": "code",
   "execution_count": 24,
   "metadata": {},
   "outputs": [
    {
     "data": {
      "text/html": [
       "<div>\n",
       "<style scoped>\n",
       "    .dataframe tbody tr th:only-of-type {\n",
       "        vertical-align: middle;\n",
       "    }\n",
       "\n",
       "    .dataframe tbody tr th {\n",
       "        vertical-align: top;\n",
       "    }\n",
       "\n",
       "    .dataframe thead th {\n",
       "        text-align: right;\n",
       "    }\n",
       "</style>\n",
       "<table border=\"1\" class=\"dataframe\">\n",
       "  <thead>\n",
       "    <tr style=\"text-align: right;\">\n",
       "      <th></th>\n",
       "      <th>Open</th>\n",
       "      <th>High</th>\n",
       "      <th>Low</th>\n",
       "      <th>Close</th>\n",
       "      <th>Adj Close</th>\n",
       "      <th>Volume</th>\n",
       "    </tr>\n",
       "    <tr>\n",
       "      <th>Date</th>\n",
       "      <th></th>\n",
       "      <th></th>\n",
       "      <th></th>\n",
       "      <th></th>\n",
       "      <th></th>\n",
       "      <th></th>\n",
       "    </tr>\n",
       "  </thead>\n",
       "  <tbody>\n",
       "    <tr>\n",
       "      <th>2013-02-28</th>\n",
       "      <td>261.809998</td>\n",
       "      <td>267.000000</td>\n",
       "      <td>260.630005</td>\n",
       "      <td>264.269989</td>\n",
       "      <td>264.269989</td>\n",
       "      <td>2667200</td>\n",
       "    </tr>\n",
       "    <tr>\n",
       "      <th>2013-03-01</th>\n",
       "      <td>263.269989</td>\n",
       "      <td>266.600006</td>\n",
       "      <td>261.040009</td>\n",
       "      <td>265.739990</td>\n",
       "      <td>265.739990</td>\n",
       "      <td>2957000</td>\n",
       "    </tr>\n",
       "    <tr>\n",
       "      <th>2013-03-04</th>\n",
       "      <td>265.359985</td>\n",
       "      <td>273.299988</td>\n",
       "      <td>264.140015</td>\n",
       "      <td>273.109985</td>\n",
       "      <td>273.109985</td>\n",
       "      <td>3453000</td>\n",
       "    </tr>\n",
       "    <tr>\n",
       "      <th>2013-03-05</th>\n",
       "      <td>274.000000</td>\n",
       "      <td>276.679993</td>\n",
       "      <td>269.989990</td>\n",
       "      <td>275.589996</td>\n",
       "      <td>275.589996</td>\n",
       "      <td>3686200</td>\n",
       "    </tr>\n",
       "    <tr>\n",
       "      <th>2013-03-06</th>\n",
       "      <td>275.760010</td>\n",
       "      <td>276.489990</td>\n",
       "      <td>271.829987</td>\n",
       "      <td>273.790009</td>\n",
       "      <td>273.790009</td>\n",
       "      <td>2050700</td>\n",
       "    </tr>\n",
       "  </tbody>\n",
       "</table>\n",
       "</div>"
      ],
      "text/plain": [
       "                  Open        High         Low       Close   Adj Close  \\\n",
       "Date                                                                     \n",
       "2013-02-28  261.809998  267.000000  260.630005  264.269989  264.269989   \n",
       "2013-03-01  263.269989  266.600006  261.040009  265.739990  265.739990   \n",
       "2013-03-04  265.359985  273.299988  264.140015  273.109985  273.109985   \n",
       "2013-03-05  274.000000  276.679993  269.989990  275.589996  275.589996   \n",
       "2013-03-06  275.760010  276.489990  271.829987  273.790009  273.790009   \n",
       "\n",
       "             Volume  \n",
       "Date                 \n",
       "2013-02-28  2667200  \n",
       "2013-03-01  2957000  \n",
       "2013-03-04  3453000  \n",
       "2013-03-05  3686200  \n",
       "2013-03-06  2050700  "
      ]
     },
     "execution_count": 24,
     "metadata": {},
     "output_type": "execute_result"
    }
   ],
   "source": [
    "amzn_df.head()"
   ]
  },
  {
   "cell_type": "code",
   "execution_count": 25,
   "metadata": {},
   "outputs": [],
   "source": [
    "#dropping the first date row which is Feb 28, 2013\n",
    "amzn_df=amzn_df.drop(pd.Timestamp('2013-02-28'))"
   ]
  },
  {
   "cell_type": "code",
   "execution_count": 26,
   "metadata": {},
   "outputs": [
    {
     "data": {
      "text/plain": [
       "DatetimeIndex(['2013-03-01', '2013-03-04', '2013-03-05', '2013-03-06',\n",
       "               '2013-03-07', '2013-03-08', '2013-03-11', '2013-03-12',\n",
       "               '2013-03-13', '2013-03-14',\n",
       "               ...\n",
       "               '2018-02-14', '2018-02-15', '2018-02-16', '2018-02-20',\n",
       "               '2018-02-21', '2018-02-22', '2018-02-23', '2018-02-26',\n",
       "               '2018-02-27', '2018-02-28'],\n",
       "              dtype='datetime64[ns]', name='Date', length=1259, freq=None)"
      ]
     },
     "execution_count": 26,
     "metadata": {},
     "output_type": "execute_result"
    }
   ],
   "source": [
    "amzn_df.index"
   ]
  },
  {
   "cell_type": "code",
   "execution_count": 27,
   "metadata": {},
   "outputs": [],
   "source": [
    "# to set the frequency and to fill the gaps for AMZN\n",
    "amzn_df=amzn_df.asfreq('D',method='pad')"
   ]
  },
  {
   "cell_type": "code",
   "execution_count": 28,
   "metadata": {},
   "outputs": [
    {
     "name": "stdout",
     "output_type": "stream",
     "text": [
      "<class 'pandas.core.frame.DataFrame'>\n",
      "DatetimeIndex: 1826 entries, 2013-03-01 to 2018-02-28\n",
      "Freq: D\n",
      "Data columns (total 6 columns):\n",
      "Open         1826 non-null float64\n",
      "High         1826 non-null float64\n",
      "Low          1826 non-null float64\n",
      "Close        1826 non-null float64\n",
      "Adj Close    1826 non-null float64\n",
      "Volume       1826 non-null int64\n",
      "dtypes: float64(5), int64(1)\n",
      "memory usage: 99.9 KB\n"
     ]
    }
   ],
   "source": [
    "amzn_df.info()"
   ]
  },
  {
   "cell_type": "code",
   "execution_count": 29,
   "metadata": {},
   "outputs": [
    {
     "data": {
      "text/plain": [
       "DatetimeIndex(['2013-03-01', '2013-03-02', '2013-03-03', '2013-03-04',\n",
       "               '2013-03-05', '2013-03-06', '2013-03-07', '2013-03-08',\n",
       "               '2013-03-09', '2013-03-10',\n",
       "               ...\n",
       "               '2018-02-19', '2018-02-20', '2018-02-21', '2018-02-22',\n",
       "               '2018-02-23', '2018-02-24', '2018-02-25', '2018-02-26',\n",
       "               '2018-02-27', '2018-02-28'],\n",
       "              dtype='datetime64[ns]', name='Date', length=1826, freq='D')"
      ]
     },
     "execution_count": 29,
     "metadata": {},
     "output_type": "execute_result"
    }
   ],
   "source": [
    "amzn_df.index"
   ]
  },
  {
   "cell_type": "code",
   "execution_count": 30,
   "metadata": {},
   "outputs": [
    {
     "data": {
      "text/plain": [
       "Date\n",
       "2013-03-31     266.489990\n",
       "2013-04-30     253.809998\n",
       "2013-05-31     269.200012\n",
       "2013-06-30     277.690002\n",
       "2013-07-31     301.220001\n",
       "2013-08-31     280.980011\n",
       "2013-09-30     312.640015\n",
       "2013-10-31     364.029999\n",
       "2013-11-30     393.619995\n",
       "2013-12-31     398.790009\n",
       "                 ...     \n",
       "2017-05-31     994.619995\n",
       "2017-06-30     968.000000\n",
       "2017-07-31     987.780029\n",
       "2017-08-31     980.599976\n",
       "2017-09-30     961.349976\n",
       "2017-10-31    1105.280029\n",
       "2017-11-30    1176.750000\n",
       "2017-12-31    1169.469971\n",
       "2018-01-31    1450.890015\n",
       "2018-02-28    1512.449951\n",
       "Freq: M, Name: Adj Close, Length: 60, dtype: float64"
      ]
     },
     "execution_count": 30,
     "metadata": {},
     "output_type": "execute_result"
    }
   ],
   "source": [
    "#amzn month end adj close price\n",
    "amzn_adj_close_monthend=pd.Series(amzn_df['Adj Close'].asfreq('M'))\n",
    "amzn_adj_close_monthend"
   ]
  },
  {
   "cell_type": "code",
   "execution_count": 31,
   "metadata": {},
   "outputs": [
    {
     "data": {
      "image/png": "[encoded data removed]",
      "text/plain": [
       "<Figure size 432x288 with 1 Axes>"
      ]
     },
     "metadata": {},
     "output_type": "display_data"
    }
   ],
   "source": [
    "#overlall lag plot for AMZN monthend close prices\n",
    "pd.plotting.lag_plot(amzn_adj_close_monthend)\n",
    "plt.show()"
   ]
  },
  {
   "cell_type": "markdown",
   "metadata": {},
   "source": [
    "The above graph shows there is a correlation when lag is less, as the lag increases-data starts to scatter means less correlation.<br/>\n",
    "To see, below autocorrelation graph has been plotted:"
   ]
  },
  {
   "cell_type": "code",
   "execution_count": 32,
   "metadata": {},
   "outputs": [
    {
     "data": {
      "text/plain": [
       "Text(0.5,0,'Lag (Months)')"
      ]
     },
     "execution_count": 32,
     "metadata": {},
     "output_type": "execute_result"
    },
    {
     "data": {
      "image/png": "[encoded data removed]",
      "text/plain": [
       "<Figure size 432x288 with 1 Axes>"
      ]
     },
     "metadata": {},
     "output_type": "display_data"
    }
   ],
   "source": [
    "#autocorrelation plot\n",
    "aCPlot = pd.plotting.autocorrelation_plot(amzn_adj_close_monthend)\n",
    "aCPlot.set_title(\"An Autocorrelation Graph of AMZN adjclose monthend\")\n",
    "aCPlot.set_ylabel(\"Correlation\")\n",
    "aCPlot.set_xlabel(\"Lag (Months)\")"
   ]
  },
  {
   "cell_type": "markdown",
   "metadata": {},
   "source": [
    "The above graph shows there is strong Autocorrelation when the lag is less than 15. As the lag increases the correlation decreases. There is some negative autocorrelation when the lag is 37 or 38 but we can say it is weak. <br/>\n",
    "\n",
    "Let's look at some of the subsets of Lags"
   ]
  },
  {
   "cell_type": "code",
   "execution_count": 33,
   "metadata": {},
   "outputs": [
    {
     "data": {
      "image/png": "[encoded data removed]",
      "text/plain": [
       "<Figure size 432x288 with 2 Axes>"
      ]
     },
     "metadata": {},
     "output_type": "display_data"
    }
   ],
   "source": [
    "#lagplot of subsets of auto correlation\n",
    "plt.subplot(3, 3, 1)\n",
    "pd.plotting.lag_plot(series=amzn_adj_close_monthend, lag = 15)\n",
    "plt.subplot(3, 3, 3)\n",
    "pd.plotting.lag_plot(series=amzn_adj_close_monthend, lag = 37)\n",
    "plt.suptitle('AMZN LAG Plots')\n",
    "plt.show()"
   ]
  },
  {
   "cell_type": "markdown",
   "metadata": {},
   "source": [
    "The lag first lag plot shows somewhat pattern how ever the second graph shows scattered data which means no correlation.<br/>\n",
    "\n",
    "The next step is to calculate monthly returns, from the previous aapl calculation I noticed there are NA values from the previous month so I will be dropping Na value in the first step it self.\n"
   ]
  },
  {
   "cell_type": "code",
   "execution_count": 34,
   "metadata": {},
   "outputs": [
    {
     "data": {
      "text/plain": [
       "Date\n",
       "2013-04-30   -0.047581\n",
       "2013-05-31    0.060636\n",
       "2013-06-30    0.031538\n",
       "2013-07-31    0.084735\n",
       "2013-08-31   -0.067193\n",
       "2013-09-30    0.112677\n",
       "2013-10-31    0.164374\n",
       "2013-11-30    0.081284\n",
       "2013-12-31    0.013135\n",
       "2014-01-31   -0.100554\n",
       "                ...   \n",
       "2017-05-31    0.075276\n",
       "2017-06-30   -0.026764\n",
       "2017-07-31    0.020434\n",
       "2017-08-31   -0.007269\n",
       "2017-09-30   -0.019631\n",
       "2017-10-31    0.149717\n",
       "2017-11-30    0.064662\n",
       "2017-12-31   -0.006187\n",
       "2018-01-31    0.240639\n",
       "2018-02-28    0.042429\n",
       "Freq: M, Name: Adj Close, Length: 59, dtype: float64"
      ]
     },
     "execution_count": 34,
     "metadata": {},
     "output_type": "execute_result"
    }
   ],
   "source": [
    "amzn_monthly_return=(amzn_adj_close_monthend/amzn_adj_close_monthend.shift(1)-1).dropna()\n",
    "amzn_monthly_return"
   ]
  },
  {
   "cell_type": "code",
   "execution_count": 35,
   "metadata": {},
   "outputs": [
    {
     "data": {
      "text/plain": [
       "Text(0.5,0,'Lag (Months)')"
      ]
     },
     "execution_count": 35,
     "metadata": {},
     "output_type": "execute_result"
    },
    {
     "data": {
      "image/png": "[encoded data removed]",
      "text/plain": [
       "<Figure size 432x288 with 1 Axes>"
      ]
     },
     "metadata": {},
     "output_type": "display_data"
    }
   ],
   "source": [
    "#autocorrelation plot of AMZN returns\n",
    "aCPlot = pd.plotting.autocorrelation_plot(amzn_monthly_return)\n",
    "aCPlot.set_title(\"An Autocorrelation Graph of AMZN monthly returns\")\n",
    "aCPlot.set_ylabel(\"Correlation\")\n",
    "aCPlot.set_xlabel(\"Lag (Months)\")"
   ]
  },
  {
   "cell_type": "markdown",
   "metadata": {},
   "source": [
    "The above graph clearly shows that there is no correlation between the montly returns of AMZN as the pattern is inside grey lines and closer to zero. <br/>\n",
    "\n",
    "Next to look into Ebay data.\n",
    "\n",
    "### EBAY"
   ]
  },
  {
   "cell_type": "code",
   "execution_count": 36,
   "metadata": {},
   "outputs": [
    {
     "data": {
      "text/html": [
       "<div>\n",
       "<style scoped>\n",
       "    .dataframe tbody tr th:only-of-type {\n",
       "        vertical-align: middle;\n",
       "    }\n",
       "\n",
       "    .dataframe tbody tr th {\n",
       "        vertical-align: top;\n",
       "    }\n",
       "\n",
       "    .dataframe thead th {\n",
       "        text-align: right;\n",
       "    }\n",
       "</style>\n",
       "<table border=\"1\" class=\"dataframe\">\n",
       "  <thead>\n",
       "    <tr style=\"text-align: right;\">\n",
       "      <th></th>\n",
       "      <th>Open</th>\n",
       "      <th>High</th>\n",
       "      <th>Low</th>\n",
       "      <th>Close</th>\n",
       "      <th>Volume</th>\n",
       "      <th>ExDividend</th>\n",
       "      <th>SplitRatio</th>\n",
       "      <th>AdjOpen</th>\n",
       "      <th>AdjHigh</th>\n",
       "      <th>AdjLow</th>\n",
       "      <th>AdjClose</th>\n",
       "      <th>AdjVolume</th>\n",
       "    </tr>\n",
       "    <tr>\n",
       "      <th>Date</th>\n",
       "      <th></th>\n",
       "      <th></th>\n",
       "      <th></th>\n",
       "      <th></th>\n",
       "      <th></th>\n",
       "      <th></th>\n",
       "      <th></th>\n",
       "      <th></th>\n",
       "      <th></th>\n",
       "      <th></th>\n",
       "      <th></th>\n",
       "      <th></th>\n",
       "    </tr>\n",
       "  </thead>\n",
       "  <tbody>\n",
       "    <tr>\n",
       "      <th>2018-02-28</th>\n",
       "      <td>43.22</td>\n",
       "      <td>43.420</td>\n",
       "      <td>42.850</td>\n",
       "      <td>42.86</td>\n",
       "      <td>8344453.0</td>\n",
       "      <td>0.0</td>\n",
       "      <td>1.0</td>\n",
       "      <td>43.22</td>\n",
       "      <td>43.420</td>\n",
       "      <td>42.850</td>\n",
       "      <td>42.86</td>\n",
       "      <td>8344453.0</td>\n",
       "    </tr>\n",
       "    <tr>\n",
       "      <th>2018-02-27</th>\n",
       "      <td>43.82</td>\n",
       "      <td>43.950</td>\n",
       "      <td>43.130</td>\n",
       "      <td>43.15</td>\n",
       "      <td>9152950.0</td>\n",
       "      <td>0.0</td>\n",
       "      <td>1.0</td>\n",
       "      <td>43.82</td>\n",
       "      <td>43.950</td>\n",
       "      <td>43.130</td>\n",
       "      <td>43.15</td>\n",
       "      <td>9152950.0</td>\n",
       "    </tr>\n",
       "    <tr>\n",
       "      <th>2018-02-26</th>\n",
       "      <td>43.80</td>\n",
       "      <td>44.360</td>\n",
       "      <td>43.650</td>\n",
       "      <td>43.83</td>\n",
       "      <td>6366809.0</td>\n",
       "      <td>0.0</td>\n",
       "      <td>1.0</td>\n",
       "      <td>43.80</td>\n",
       "      <td>44.360</td>\n",
       "      <td>43.650</td>\n",
       "      <td>43.83</td>\n",
       "      <td>6366809.0</td>\n",
       "    </tr>\n",
       "    <tr>\n",
       "      <th>2018-02-23</th>\n",
       "      <td>43.27</td>\n",
       "      <td>43.785</td>\n",
       "      <td>42.815</td>\n",
       "      <td>43.68</td>\n",
       "      <td>11101710.0</td>\n",
       "      <td>0.0</td>\n",
       "      <td>1.0</td>\n",
       "      <td>43.27</td>\n",
       "      <td>43.785</td>\n",
       "      <td>42.815</td>\n",
       "      <td>43.68</td>\n",
       "      <td>11101710.0</td>\n",
       "    </tr>\n",
       "    <tr>\n",
       "      <th>2018-02-22</th>\n",
       "      <td>43.16</td>\n",
       "      <td>43.510</td>\n",
       "      <td>42.620</td>\n",
       "      <td>42.83</td>\n",
       "      <td>9534700.0</td>\n",
       "      <td>0.0</td>\n",
       "      <td>1.0</td>\n",
       "      <td>43.16</td>\n",
       "      <td>43.510</td>\n",
       "      <td>42.620</td>\n",
       "      <td>42.83</td>\n",
       "      <td>9534700.0</td>\n",
       "    </tr>\n",
       "  </tbody>\n",
       "</table>\n",
       "</div>"
      ],
      "text/plain": [
       "             Open    High     Low  Close      Volume  ExDividend  SplitRatio  \\\n",
       "Date                                                                           \n",
       "2018-02-28  43.22  43.420  42.850  42.86   8344453.0         0.0         1.0   \n",
       "2018-02-27  43.82  43.950  43.130  43.15   9152950.0         0.0         1.0   \n",
       "2018-02-26  43.80  44.360  43.650  43.83   6366809.0         0.0         1.0   \n",
       "2018-02-23  43.27  43.785  42.815  43.68  11101710.0         0.0         1.0   \n",
       "2018-02-22  43.16  43.510  42.620  42.83   9534700.0         0.0         1.0   \n",
       "\n",
       "            AdjOpen  AdjHigh  AdjLow  AdjClose   AdjVolume  \n",
       "Date                                                        \n",
       "2018-02-28    43.22   43.420  42.850     42.86   8344453.0  \n",
       "2018-02-27    43.82   43.950  43.130     43.15   9152950.0  \n",
       "2018-02-26    43.80   44.360  43.650     43.83   6366809.0  \n",
       "2018-02-23    43.27   43.785  42.815     43.68  11101710.0  \n",
       "2018-02-22    43.16   43.510  42.620     42.83   9534700.0  "
      ]
     },
     "execution_count": 36,
     "metadata": {},
     "output_type": "execute_result"
    }
   ],
   "source": [
    "ebay_df=pd.read_csv('3250_Assignment+3_ebay.csv',parse_dates=[\"Date\"], index_col=\"Date\")\n",
    "ebay_df.head()"
   ]
  },
  {
   "cell_type": "markdown",
   "metadata": {},
   "source": [
    "In the above data frame head, the date starts with the 2018 that means it is not sorted. I am going to sort the date by sort_index method."
   ]
  },
  {
   "cell_type": "code",
   "execution_count": 37,
   "metadata": {},
   "outputs": [],
   "source": [
    "ebay_df=ebay_df.sort_index()"
   ]
  },
  {
   "cell_type": "code",
   "execution_count": 38,
   "metadata": {},
   "outputs": [
    {
     "data": {
      "text/plain": [
       "DatetimeIndex(['2013-02-28', '2013-03-01', '2013-03-04', '2013-03-05',\n",
       "               '2013-03-06', '2013-03-07', '2013-03-08', '2013-03-11',\n",
       "               '2013-03-12', '2013-03-13',\n",
       "               ...\n",
       "               '2018-02-14', '2018-02-15', '2018-02-16', '2018-02-20',\n",
       "               '2018-02-21', '2018-02-22', '2018-02-23', '2018-02-26',\n",
       "               '2018-02-27', '2018-02-28'],\n",
       "              dtype='datetime64[ns]', name='Date', length=1259, freq=None)"
      ]
     },
     "execution_count": 38,
     "metadata": {},
     "output_type": "execute_result"
    }
   ],
   "source": [
    "ebay_df.index"
   ]
  },
  {
   "cell_type": "code",
   "execution_count": 39,
   "metadata": {},
   "outputs": [],
   "source": [
    "ebay_df=ebay_df.drop(pd.Timestamp('2013-02-28'))"
   ]
  },
  {
   "cell_type": "code",
   "execution_count": 40,
   "metadata": {},
   "outputs": [
    {
     "data": {
      "text/html": [
       "<div>\n",
       "<style scoped>\n",
       "    .dataframe tbody tr th:only-of-type {\n",
       "        vertical-align: middle;\n",
       "    }\n",
       "\n",
       "    .dataframe tbody tr th {\n",
       "        vertical-align: top;\n",
       "    }\n",
       "\n",
       "    .dataframe thead th {\n",
       "        text-align: right;\n",
       "    }\n",
       "</style>\n",
       "<table border=\"1\" class=\"dataframe\">\n",
       "  <thead>\n",
       "    <tr style=\"text-align: right;\">\n",
       "      <th></th>\n",
       "      <th>Open</th>\n",
       "      <th>High</th>\n",
       "      <th>Low</th>\n",
       "      <th>Close</th>\n",
       "      <th>Volume</th>\n",
       "      <th>ExDividend</th>\n",
       "      <th>SplitRatio</th>\n",
       "      <th>AdjOpen</th>\n",
       "      <th>AdjHigh</th>\n",
       "      <th>AdjLow</th>\n",
       "      <th>AdjClose</th>\n",
       "      <th>AdjVolume</th>\n",
       "    </tr>\n",
       "    <tr>\n",
       "      <th>Date</th>\n",
       "      <th></th>\n",
       "      <th></th>\n",
       "      <th></th>\n",
       "      <th></th>\n",
       "      <th></th>\n",
       "      <th></th>\n",
       "      <th></th>\n",
       "      <th></th>\n",
       "      <th></th>\n",
       "      <th></th>\n",
       "      <th></th>\n",
       "      <th></th>\n",
       "    </tr>\n",
       "  </thead>\n",
       "  <tbody>\n",
       "    <tr>\n",
       "      <th>2013-03-01</th>\n",
       "      <td>54.59</td>\n",
       "      <td>55.095</td>\n",
       "      <td>54.02</td>\n",
       "      <td>54.90</td>\n",
       "      <td>6422900.0</td>\n",
       "      <td>0.0</td>\n",
       "      <td>1.0</td>\n",
       "      <td>21.476593</td>\n",
       "      <td>21.675268</td>\n",
       "      <td>21.252345</td>\n",
       "      <td>21.598552</td>\n",
       "      <td>6422900.0</td>\n",
       "    </tr>\n",
       "    <tr>\n",
       "      <th>2013-03-04</th>\n",
       "      <td>54.34</td>\n",
       "      <td>55.490</td>\n",
       "      <td>54.25</td>\n",
       "      <td>55.48</td>\n",
       "      <td>9750900.0</td>\n",
       "      <td>0.0</td>\n",
       "      <td>1.0</td>\n",
       "      <td>21.378238</td>\n",
       "      <td>21.830667</td>\n",
       "      <td>21.342831</td>\n",
       "      <td>21.826733</td>\n",
       "      <td>9750900.0</td>\n",
       "    </tr>\n",
       "    <tr>\n",
       "      <th>2013-03-05</th>\n",
       "      <td>55.55</td>\n",
       "      <td>56.000</td>\n",
       "      <td>54.76</td>\n",
       "      <td>55.26</td>\n",
       "      <td>9812600.0</td>\n",
       "      <td>0.0</td>\n",
       "      <td>1.0</td>\n",
       "      <td>21.854272</td>\n",
       "      <td>22.031309</td>\n",
       "      <td>21.543473</td>\n",
       "      <td>21.740181</td>\n",
       "      <td>9812600.0</td>\n",
       "    </tr>\n",
       "    <tr>\n",
       "      <th>2013-03-06</th>\n",
       "      <td>54.98</td>\n",
       "      <td>55.000</td>\n",
       "      <td>53.44</td>\n",
       "      <td>53.57</td>\n",
       "      <td>14560300.0</td>\n",
       "      <td>0.0</td>\n",
       "      <td>1.0</td>\n",
       "      <td>21.630025</td>\n",
       "      <td>21.637893</td>\n",
       "      <td>21.024164</td>\n",
       "      <td>21.075308</td>\n",
       "      <td>14560300.0</td>\n",
       "    </tr>\n",
       "    <tr>\n",
       "      <th>2013-03-07</th>\n",
       "      <td>53.69</td>\n",
       "      <td>53.870</td>\n",
       "      <td>52.75</td>\n",
       "      <td>52.98</td>\n",
       "      <td>9450000.0</td>\n",
       "      <td>0.0</td>\n",
       "      <td>1.0</td>\n",
       "      <td>21.122518</td>\n",
       "      <td>21.193333</td>\n",
       "      <td>20.752707</td>\n",
       "      <td>20.843192</td>\n",
       "      <td>9450000.0</td>\n",
       "    </tr>\n",
       "  </tbody>\n",
       "</table>\n",
       "</div>"
      ],
      "text/plain": [
       "             Open    High    Low  Close      Volume  ExDividend  SplitRatio  \\\n",
       "Date                                                                          \n",
       "2013-03-01  54.59  55.095  54.02  54.90   6422900.0         0.0         1.0   \n",
       "2013-03-04  54.34  55.490  54.25  55.48   9750900.0         0.0         1.0   \n",
       "2013-03-05  55.55  56.000  54.76  55.26   9812600.0         0.0         1.0   \n",
       "2013-03-06  54.98  55.000  53.44  53.57  14560300.0         0.0         1.0   \n",
       "2013-03-07  53.69  53.870  52.75  52.98   9450000.0         0.0         1.0   \n",
       "\n",
       "              AdjOpen    AdjHigh     AdjLow   AdjClose   AdjVolume  \n",
       "Date                                                                \n",
       "2013-03-01  21.476593  21.675268  21.252345  21.598552   6422900.0  \n",
       "2013-03-04  21.378238  21.830667  21.342831  21.826733   9750900.0  \n",
       "2013-03-05  21.854272  22.031309  21.543473  21.740181   9812600.0  \n",
       "2013-03-06  21.630025  21.637893  21.024164  21.075308  14560300.0  \n",
       "2013-03-07  21.122518  21.193333  20.752707  20.843192   9450000.0  "
      ]
     },
     "execution_count": 40,
     "metadata": {},
     "output_type": "execute_result"
    }
   ],
   "source": [
    "ebay_df.head()"
   ]
  },
  {
   "cell_type": "code",
   "execution_count": 41,
   "metadata": {},
   "outputs": [],
   "source": [
    "#setting up the frequency to Day and filling missing values\n",
    "ebay_df=ebay_df.asfreq('D',method='pad')"
   ]
  },
  {
   "cell_type": "code",
   "execution_count": 42,
   "metadata": {},
   "outputs": [
    {
     "data": {
      "text/plain": [
       "DatetimeIndex(['2013-03-01', '2013-03-02', '2013-03-03', '2013-03-04',\n",
       "               '2013-03-05', '2013-03-06', '2013-03-07', '2013-03-08',\n",
       "               '2013-03-09', '2013-03-10',\n",
       "               ...\n",
       "               '2018-02-19', '2018-02-20', '2018-02-21', '2018-02-22',\n",
       "               '2018-02-23', '2018-02-24', '2018-02-25', '2018-02-26',\n",
       "               '2018-02-27', '2018-02-28'],\n",
       "              dtype='datetime64[ns]', name='Date', length=1826, freq='D')"
      ]
     },
     "execution_count": 42,
     "metadata": {},
     "output_type": "execute_result"
    }
   ],
   "source": [
    "ebay_df.index"
   ]
  },
  {
   "cell_type": "code",
   "execution_count": 43,
   "metadata": {},
   "outputs": [
    {
     "data": {
      "text/plain": [
       "Date\n",
       "2013-03-31    21.331029\n",
       "2013-04-30    20.611077\n",
       "2013-05-31    21.283819\n",
       "2013-06-30    20.347488\n",
       "2013-07-31    20.335685\n",
       "2013-08-31    19.666878\n",
       "2013-09-30    21.950659\n",
       "2013-10-31    20.736970\n",
       "2013-11-30    19.875388\n",
       "2013-12-31    21.584782\n",
       "                ...    \n",
       "2017-05-31    34.300000\n",
       "2017-06-30    34.920000\n",
       "2017-07-31    35.730000\n",
       "2017-08-31    36.130000\n",
       "2017-09-30    38.460000\n",
       "2017-10-31    37.640000\n",
       "2017-11-30    34.670000\n",
       "2017-12-31    37.740000\n",
       "2018-01-31    40.580000\n",
       "2018-02-28    42.860000\n",
       "Freq: M, Name: AdjClose, Length: 60, dtype: float64"
      ]
     },
     "execution_count": 43,
     "metadata": {},
     "output_type": "execute_result"
    }
   ],
   "source": [
    "#To find out monthe end prices for EBAY\n",
    "ebay_adj_close_monthend=pd.Series(ebay_df['AdjClose'].asfreq('M'))\n",
    "ebay_adj_close_monthend"
   ]
  },
  {
   "cell_type": "code",
   "execution_count": 44,
   "metadata": {},
   "outputs": [
    {
     "data": {
      "image/png": "[encoded data removed]",
      "text/plain": [
       "<Figure size 432x288 with 1 Axes>"
      ]
     },
     "metadata": {},
     "output_type": "display_data"
    }
   ],
   "source": [
    "#Lag plot for month end prices of EBAY\n",
    "pd.plotting.lag_plot(ebay_adj_close_monthend)\n",
    "plt.show()"
   ]
  },
  {
   "cell_type": "markdown",
   "metadata": {},
   "source": [
    "The above lag plot shows there is some what correlation as the data is clustered tight in the beginning as it moves up it is scattered."
   ]
  },
  {
   "cell_type": "code",
   "execution_count": 45,
   "metadata": {},
   "outputs": [
    {
     "data": {
      "text/plain": [
       "Text(0.5,0,'Lag (Months)')"
      ]
     },
     "execution_count": 45,
     "metadata": {},
     "output_type": "execute_result"
    },
    {
     "data": {
      "image/png": "[encoded data removed]",
      "text/plain": [
       "<Figure size 432x288 with 1 Axes>"
      ]
     },
     "metadata": {},
     "output_type": "display_data"
    }
   ],
   "source": [
    "#autocorrelation plot for EBAY month end prices\n",
    "aCPlot = pd.plotting.autocorrelation_plot(ebay_adj_close_monthend)\n",
    "aCPlot.set_title(\"An Autocorrelation Graph of EBAY adjclose monthend\")\n",
    "aCPlot.set_ylabel(\"Correlation\")\n",
    "aCPlot.set_xlabel(\"Lag (Months)\")"
   ]
  },
  {
   "cell_type": "markdown",
   "metadata": {},
   "source": [
    "The Ebay graph for Autocorrelation is similar to AMZN.  It started with a high correlation and then decreases. So we can say more the lag less the correlation. <br/>\n",
    "To verify, lag plot of subsets have been plotted:\n"
   ]
  },
  {
   "cell_type": "code",
   "execution_count": 46,
   "metadata": {},
   "outputs": [
    {
     "data": {
      "image/png": "[encoded data removed]",
      "text/plain": [
       "<Figure size 432x288 with 2 Axes>"
      ]
     },
     "metadata": {},
     "output_type": "display_data"
    }
   ],
   "source": [
    "#lagplot of subsets of auto correlation\n",
    "plt.subplot(3, 3, 1)\n",
    "pd.plotting.lag_plot(series=amzn_adj_close_monthend, lag = 15)\n",
    "plt.subplot(3, 3, 3)\n",
    "pd.plotting.lag_plot(series=amzn_adj_close_monthend, lag = 40)\n",
    "plt.suptitle('EBAY LAG Plots')\n",
    "plt.show()"
   ]
  },
  {
   "cell_type": "markdown",
   "metadata": {},
   "source": [
    "There is a some correlation in the first graph but no correlation in the second one. <Br/>\n",
    "\n",
    "Next step is to calculate returns and droping NA for EBAY-"
   ]
  },
  {
   "cell_type": "code",
   "execution_count": 47,
   "metadata": {},
   "outputs": [
    {
     "data": {
      "text/plain": [
       "Date\n",
       "2013-04-30   -0.033751\n",
       "2013-05-31    0.032640\n",
       "2013-06-30   -0.043993\n",
       "2013-07-31   -0.000580\n",
       "2013-08-31   -0.032888\n",
       "2013-09-30    0.116123\n",
       "2013-10-31   -0.055292\n",
       "2013-11-30   -0.041548\n",
       "2013-12-31    0.086006\n",
       "2014-01-31   -0.030347\n",
       "                ...   \n",
       "2017-05-31    0.026946\n",
       "2017-06-30    0.018076\n",
       "2017-07-31    0.023196\n",
       "2017-08-31    0.011195\n",
       "2017-09-30    0.064489\n",
       "2017-10-31   -0.021321\n",
       "2017-11-30   -0.078905\n",
       "2017-12-31    0.088549\n",
       "2018-01-31    0.075252\n",
       "2018-02-28    0.056185\n",
       "Freq: M, Name: AdjClose, Length: 59, dtype: float64"
      ]
     },
     "execution_count": 47,
     "metadata": {},
     "output_type": "execute_result"
    }
   ],
   "source": [
    "ebay_monthly_return=(ebay_adj_close_monthend/ebay_adj_close_monthend.shift(1)-1).dropna()\n",
    "ebay_monthly_return"
   ]
  },
  {
   "cell_type": "code",
   "execution_count": 48,
   "metadata": {},
   "outputs": [
    {
     "data": {
      "text/plain": [
       "Text(0.5,0,'Lag (Months)')"
      ]
     },
     "execution_count": 48,
     "metadata": {},
     "output_type": "execute_result"
    },
    {
     "data": {
      "image/png": "[encoded data removed]",
      "text/plain": [
       "<Figure size 432x288 with 1 Axes>"
      ]
     },
     "metadata": {},
     "output_type": "display_data"
    }
   ],
   "source": [
    "#Autocorrelation plot for monthly returns of EBAY\n",
    "aCPlot = pd.plotting.autocorrelation_plot(ebay_monthly_return)\n",
    "aCPlot.set_title(\"An Autocorrelation Graph of EBAY monthly returns\")\n",
    "aCPlot.set_ylabel(\"Correlation\")\n",
    "aCPlot.set_xlabel(\"Lag (Months)\")"
   ]
  },
  {
   "cell_type": "markdown",
   "metadata": {},
   "source": [
    "The above graph shows that there is no correlation or very minor in the beginning but that is negligible. So no autocorrelation in the monthly returns of EBAY. <br/><br/>\n",
    "Next the last file to look at is INTC\n",
    "\n",
    "### INTC"
   ]
  },
  {
   "cell_type": "code",
   "execution_count": 49,
   "metadata": {},
   "outputs": [
    {
     "data": {
      "text/html": [
       "<div>\n",
       "<style scoped>\n",
       "    .dataframe tbody tr th:only-of-type {\n",
       "        vertical-align: middle;\n",
       "    }\n",
       "\n",
       "    .dataframe tbody tr th {\n",
       "        vertical-align: top;\n",
       "    }\n",
       "\n",
       "    .dataframe thead th {\n",
       "        text-align: right;\n",
       "    }\n",
       "</style>\n",
       "<table border=\"1\" class=\"dataframe\">\n",
       "  <thead>\n",
       "    <tr style=\"text-align: right;\">\n",
       "      <th></th>\n",
       "      <th>Open</th>\n",
       "      <th>High</th>\n",
       "      <th>Low</th>\n",
       "      <th>Close</th>\n",
       "      <th>Volume</th>\n",
       "      <th>ExDividend</th>\n",
       "      <th>SplitRatio</th>\n",
       "      <th>AdjOpen</th>\n",
       "      <th>AdjHigh</th>\n",
       "      <th>AdjLow</th>\n",
       "      <th>AdjClose</th>\n",
       "      <th>AdjVolume</th>\n",
       "    </tr>\n",
       "    <tr>\n",
       "      <th>Date</th>\n",
       "      <th></th>\n",
       "      <th></th>\n",
       "      <th></th>\n",
       "      <th></th>\n",
       "      <th></th>\n",
       "      <th></th>\n",
       "      <th></th>\n",
       "      <th></th>\n",
       "      <th></th>\n",
       "      <th></th>\n",
       "      <th></th>\n",
       "      <th></th>\n",
       "    </tr>\n",
       "  </thead>\n",
       "  <tbody>\n",
       "    <tr>\n",
       "      <th>2018-02-28</th>\n",
       "      <td>50.18</td>\n",
       "      <td>50.34</td>\n",
       "      <td>49.280</td>\n",
       "      <td>49.29</td>\n",
       "      <td>33888511.0</td>\n",
       "      <td>0.0</td>\n",
       "      <td>1.0</td>\n",
       "      <td>50.18</td>\n",
       "      <td>50.34</td>\n",
       "      <td>49.280</td>\n",
       "      <td>49.29</td>\n",
       "      <td>33888511.0</td>\n",
       "    </tr>\n",
       "    <tr>\n",
       "      <th>2018-02-27</th>\n",
       "      <td>49.37</td>\n",
       "      <td>50.90</td>\n",
       "      <td>49.310</td>\n",
       "      <td>49.91</td>\n",
       "      <td>42654658.0</td>\n",
       "      <td>0.0</td>\n",
       "      <td>1.0</td>\n",
       "      <td>49.37</td>\n",
       "      <td>50.90</td>\n",
       "      <td>49.310</td>\n",
       "      <td>49.91</td>\n",
       "      <td>42654658.0</td>\n",
       "    </tr>\n",
       "    <tr>\n",
       "      <th>2018-02-26</th>\n",
       "      <td>48.20</td>\n",
       "      <td>49.13</td>\n",
       "      <td>48.100</td>\n",
       "      <td>49.11</td>\n",
       "      <td>25774143.0</td>\n",
       "      <td>0.0</td>\n",
       "      <td>1.0</td>\n",
       "      <td>48.20</td>\n",
       "      <td>49.13</td>\n",
       "      <td>48.100</td>\n",
       "      <td>49.11</td>\n",
       "      <td>25774143.0</td>\n",
       "    </tr>\n",
       "    <tr>\n",
       "      <th>2018-02-23</th>\n",
       "      <td>46.34</td>\n",
       "      <td>47.79</td>\n",
       "      <td>46.305</td>\n",
       "      <td>47.73</td>\n",
       "      <td>25243762.0</td>\n",
       "      <td>0.0</td>\n",
       "      <td>1.0</td>\n",
       "      <td>46.34</td>\n",
       "      <td>47.79</td>\n",
       "      <td>46.305</td>\n",
       "      <td>47.73</td>\n",
       "      <td>25243762.0</td>\n",
       "    </tr>\n",
       "    <tr>\n",
       "      <th>2018-02-22</th>\n",
       "      <td>46.14</td>\n",
       "      <td>46.56</td>\n",
       "      <td>45.620</td>\n",
       "      <td>45.80</td>\n",
       "      <td>16447235.0</td>\n",
       "      <td>0.0</td>\n",
       "      <td>1.0</td>\n",
       "      <td>46.14</td>\n",
       "      <td>46.56</td>\n",
       "      <td>45.620</td>\n",
       "      <td>45.80</td>\n",
       "      <td>16447235.0</td>\n",
       "    </tr>\n",
       "  </tbody>\n",
       "</table>\n",
       "</div>"
      ],
      "text/plain": [
       "             Open   High     Low  Close      Volume  ExDividend  SplitRatio  \\\n",
       "Date                                                                          \n",
       "2018-02-28  50.18  50.34  49.280  49.29  33888511.0         0.0         1.0   \n",
       "2018-02-27  49.37  50.90  49.310  49.91  42654658.0         0.0         1.0   \n",
       "2018-02-26  48.20  49.13  48.100  49.11  25774143.0         0.0         1.0   \n",
       "2018-02-23  46.34  47.79  46.305  47.73  25243762.0         0.0         1.0   \n",
       "2018-02-22  46.14  46.56  45.620  45.80  16447235.0         0.0         1.0   \n",
       "\n",
       "            AdjOpen  AdjHigh  AdjLow  AdjClose   AdjVolume  \n",
       "Date                                                        \n",
       "2018-02-28    50.18    50.34  49.280     49.29  33888511.0  \n",
       "2018-02-27    49.37    50.90  49.310     49.91  42654658.0  \n",
       "2018-02-26    48.20    49.13  48.100     49.11  25774143.0  \n",
       "2018-02-23    46.34    47.79  46.305     47.73  25243762.0  \n",
       "2018-02-22    46.14    46.56  45.620     45.80  16447235.0  "
      ]
     },
     "execution_count": 49,
     "metadata": {},
     "output_type": "execute_result"
    }
   ],
   "source": [
    "intc_df=pd.read_csv('3250_Assignment+3_INTC.csv',parse_dates=[\"Date\"], index_col=\"Date\")\n",
    "intc_df.head()"
   ]
  },
  {
   "cell_type": "markdown",
   "metadata": {},
   "source": [
    "This data has the same issue as ebay, we need to sort the index"
   ]
  },
  {
   "cell_type": "code",
   "execution_count": 50,
   "metadata": {},
   "outputs": [
    {
     "data": {
      "text/plain": [
       "DatetimeIndex(['2013-02-28', '2013-03-01', '2013-03-04', '2013-03-05',\n",
       "               '2013-03-06', '2013-03-07', '2013-03-08', '2013-03-11',\n",
       "               '2013-03-12', '2013-03-13',\n",
       "               ...\n",
       "               '2018-02-14', '2018-02-15', '2018-02-16', '2018-02-20',\n",
       "               '2018-02-21', '2018-02-22', '2018-02-23', '2018-02-26',\n",
       "               '2018-02-27', '2018-02-28'],\n",
       "              dtype='datetime64[ns]', name='Date', length=1258, freq=None)"
      ]
     },
     "execution_count": 50,
     "metadata": {},
     "output_type": "execute_result"
    }
   ],
   "source": [
    "intc_df=intc_df.sort_index()\n",
    "intc_df.index"
   ]
  },
  {
   "cell_type": "code",
   "execution_count": 51,
   "metadata": {},
   "outputs": [],
   "source": [
    "#deleting the first row to ignore Feb 28, 2013\n",
    "intc_df=intc_df.drop(pd.Timestamp('2013-02-28'))"
   ]
  },
  {
   "cell_type": "code",
   "execution_count": 52,
   "metadata": {},
   "outputs": [
    {
     "data": {
      "text/plain": [
       "DatetimeIndex(['2013-03-01', '2013-03-02', '2013-03-03', '2013-03-04',\n",
       "               '2013-03-05', '2013-03-06', '2013-03-07', '2013-03-08',\n",
       "               '2013-03-09', '2013-03-10',\n",
       "               ...\n",
       "               '2018-02-19', '2018-02-20', '2018-02-21', '2018-02-22',\n",
       "               '2018-02-23', '2018-02-24', '2018-02-25', '2018-02-26',\n",
       "               '2018-02-27', '2018-02-28'],\n",
       "              dtype='datetime64[ns]', name='Date', length=1826, freq='D')"
      ]
     },
     "execution_count": 52,
     "metadata": {},
     "output_type": "execute_result"
    }
   ],
   "source": [
    "#setting up the frequency to Day and filling missing values\n",
    "intc_df=intc_df.asfreq('D',method='pad')\n",
    "intc_df.index"
   ]
  },
  {
   "cell_type": "code",
   "execution_count": 53,
   "metadata": {},
   "outputs": [
    {
     "data": {
      "text/plain": [
       "Date\n",
       "2013-03-31    18.682986\n",
       "2013-04-30    20.492673\n",
       "2013-05-31    20.970127\n",
       "2013-06-30    20.926943\n",
       "2013-07-31    20.153950\n",
       "2013-08-31    19.169991\n",
       "2013-09-30    19.990690\n",
       "2013-10-31    21.341659\n",
       "2013-11-30    20.986885\n",
       "2013-12-31    22.848766\n",
       "                ...    \n",
       "2017-05-31    35.426445\n",
       "2017-06-30    33.101309\n",
       "2017-07-31    34.798560\n",
       "2017-08-31    34.663541\n",
       "2017-09-30    37.638656\n",
       "2017-10-31    44.962774\n",
       "2017-11-30    44.840000\n",
       "2017-12-31    46.160000\n",
       "2018-01-31    48.140000\n",
       "2018-02-28    49.290000\n",
       "Freq: M, Name: AdjClose, Length: 60, dtype: float64"
      ]
     },
     "execution_count": 53,
     "metadata": {},
     "output_type": "execute_result"
    }
   ],
   "source": [
    "#getting the month end close price for INTC\n",
    "intc_adj_close_monthend=pd.Series(intc_df['AdjClose'].asfreq('M'))\n",
    "intc_adj_close_monthend"
   ]
  },
  {
   "cell_type": "code",
   "execution_count": 54,
   "metadata": {},
   "outputs": [
    {
     "data": {
      "text/plain": [
       "Text(0.5,0,'Lag (Months)')"
      ]
     },
     "execution_count": 54,
     "metadata": {},
     "output_type": "execute_result"
    },
    {
     "data": {
      "image/png": "[encoded data removed]",
      "text/plain": [
       "<Figure size 432x288 with 1 Axes>"
      ]
     },
     "metadata": {},
     "output_type": "display_data"
    }
   ],
   "source": [
    "#autocorrelation plot for INTC month end prices\n",
    "aCPlot = pd.plotting.autocorrelation_plot(intc_adj_close_monthend)\n",
    "aCPlot.set_title(\"An Autocorrelation Graph of INTC adjclose monthend\")\n",
    "aCPlot.set_ylabel(\"Correlation\")\n",
    "aCPlot.set_xlabel(\"Lag (Months)\")"
   ]
  },
  {
   "cell_type": "markdown",
   "metadata": {},
   "source": [
    "The above graph depicts that INTC is also similar to EBAY and AMZN. There is a correlation if the lag values are less than 10. However, the overall correaltion is weak."
   ]
  },
  {
   "cell_type": "code",
   "execution_count": 55,
   "metadata": {},
   "outputs": [
    {
     "data": {
      "image/png": "[encoded data removed]",
      "text/plain": [
       "<Figure size 432x288 with 1 Axes>"
      ]
     },
     "metadata": {},
     "output_type": "display_data"
    }
   ],
   "source": [
    "#overall lag plot just to observe if it gives the similar result of our expectation with some correlation in the beginning.\n",
    "pd.plotting.lag_plot(intc_adj_close_monthend)\n",
    "plt.show()\n"
   ]
  },
  {
   "cell_type": "markdown",
   "metadata": {},
   "source": [
    "The next step is to calculate the monthly returns for INTC, the same method is implemented as that of AAPL,EBAY and AMZN."
   ]
  },
  {
   "cell_type": "code",
   "execution_count": 56,
   "metadata": {},
   "outputs": [
    {
     "data": {
      "text/plain": [
       "Date\n",
       "2013-04-30    0.096863\n",
       "2013-05-31    0.023299\n",
       "2013-06-30   -0.002059\n",
       "2013-07-31   -0.036938\n",
       "2013-08-31   -0.048822\n",
       "2013-09-30    0.042812\n",
       "2013-10-31    0.067580\n",
       "2013-11-30   -0.016624\n",
       "2013-12-31    0.088716\n",
       "2014-01-31   -0.054517\n",
       "                ...   \n",
       "2017-05-31    0.006829\n",
       "2017-06-30   -0.065633\n",
       "2017-07-31    0.051274\n",
       "2017-08-31   -0.003880\n",
       "2017-09-30    0.085828\n",
       "2017-10-31    0.194590\n",
       "2017-11-30   -0.002731\n",
       "2017-12-31    0.029438\n",
       "2018-01-31    0.042894\n",
       "2018-02-28    0.023889\n",
       "Freq: M, Name: AdjClose, Length: 59, dtype: float64"
      ]
     },
     "execution_count": 56,
     "metadata": {},
     "output_type": "execute_result"
    }
   ],
   "source": [
    "intc_monthly_return=(intc_adj_close_monthend/intc_adj_close_monthend.shift(1)-1).dropna()\n",
    "intc_monthly_return"
   ]
  },
  {
   "cell_type": "code",
   "execution_count": 59,
   "metadata": {},
   "outputs": [
    {
     "data": {
      "text/plain": [
       "Text(0.5,0,'Lag (Months)')"
      ]
     },
     "execution_count": 59,
     "metadata": {},
     "output_type": "execute_result"
    },
    {
     "data": {
      "image/png": "[encoded data removed]",
      "text/plain": [
       "<Figure size 432x288 with 1 Axes>"
      ]
     },
     "metadata": {},
     "output_type": "display_data"
    }
   ],
   "source": [
    "#Autocorrelation plot for monthly returns of INTC\n",
    "aCPlot = pd.plotting.autocorrelation_plot(intc_monthly_return)\n",
    "aCPlot.set_title(\"An Autocorrelation Graph of INTC monthly returns\")\n",
    "aCPlot.set_ylabel(\"Correlation\")\n",
    "aCPlot.set_xlabel(\"Lag (Months)\")"
   ]
  },
  {
   "cell_type": "markdown",
   "metadata": {},
   "source": [
    "The above graph of INTC monthly returns shows that there is no correlation because the corerrelation coefficient is closer to 0.\n",
    "At certain points it is touching the solid grey line which is again close to zero so there is no correlation <Br/>\n",
    "\n",
    "Just to look at the overall Lag plot of AMZN,EBAY and INTC Returns, expectation is a scattered data."
   ]
  },
  {
   "cell_type": "code",
   "execution_count": 58,
   "metadata": {},
   "outputs": [
    {
     "data": {
      "image/png": "[encoded data removed]",
      "text/plain": [
       "<Figure size 432x288 with 4 Axes>"
      ]
     },
     "metadata": {},
     "output_type": "display_data"
    }
   ],
   "source": [
    "plt.subplot(3, 3, 1)\n",
    "pd.plotting.lag_plot(series=aapl_monthly_return)\n",
    "plt.subplot(3, 3, 3)\n",
    "pd.plotting.lag_plot(series=amzn_monthly_return)\n",
    "plt.subplot(3, 3, 7)\n",
    "pd.plotting.lag_plot(series=ebay_monthly_return)\n",
    "plt.subplot(3, 3, 9)\n",
    "pd.plotting.lag_plot(series=intc_monthly_return)\n",
    "plt.suptitle('Return LAG Plots')\n",
    "plt.show()"
   ]
  },
  {
   "cell_type": "markdown",
   "metadata": {},
   "source": [
    "The lag plot of mothly returns is scattered. So there is no correaltion between the monthly returns of the four stocks."
   ]
  },
  {
   "cell_type": "code",
   "execution_count": null,
   "metadata": {},
   "outputs": [],
   "source": []
  }
 ],
 "metadata": {
  "kernelspec": {
   "display_name": "Python 3",
   "language": "python",
   "name": "python3"
  },
  "language_info": {
   "codemirror_mode": {
    "name": "ipython",
    "version": 3
   },
   "file_extension": ".py",
   "mimetype": "text/x-python",
   "name": "python",
   "nbconvert_exporter": "python",
   "pygments_lexer": "ipython3",
   "version": "3.6.5"
  }
 },
 "nbformat": 4,
 "nbformat_minor": 2
}
